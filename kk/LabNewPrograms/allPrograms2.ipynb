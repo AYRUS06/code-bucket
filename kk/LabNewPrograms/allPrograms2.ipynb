{
  "nbformat": 4,
  "nbformat_minor": 0,
  "metadata": {
    "colab": {
      "provenance": []
    },
    "kernelspec": {
      "name": "python3",
      "display_name": "Python 3"
    },
    "language_info": {
      "name": "python"
    },
    "gpuClass": "standard"
  },
  "cells": [
    {
      "cell_type": "code",
      "source": [
        "# from google.colab import drive\n",
        "# drive.mount('/content/drive')"
      ],
      "metadata": {
        "id": "4H8wWhfsDCel"
      },
      "execution_count": 15,
      "outputs": []
    },
    {
      "cell_type": "code",
      "execution_count": 16,
      "metadata": {
        "id": "LE7Z5ym96Dy6"
      },
      "outputs": [],
      "source": [
        "#Important libraries to import\n",
        "import numpy as np\n",
        "import pandas as pd\n",
        "from sklearn import datasets\n",
        "from sklearn.metrics import accuracy_score\n",
        "from sklearn.metrics import classification_report\n",
        "from sklearn.model_selection import train_test_split\n",
        "from sklearn.linear_model import LogisticRegression,LinearRegression\n",
        "from sklearn.neighbors import KNeighborsClassifier\n",
        "from sklearn.naive_bayes import GaussianNB\n",
        "from sklearn.tree import DecisionTreeClassifier\n",
        "from sklearn.preprocessing import StandardScaler\n",
        "from sklearn.svm import SVC"
      ]
    },
    {
      "cell_type": "code",
      "source": [
        "# Lab 3-B: 1. For writing pixel values of an image\n",
        "from PIL import Image\n",
        "img=Image.open(\"/content/image.png\")\n",
        "map=img.load()\n",
        "width,height=img.size\n",
        "for i in range(width//2):\n",
        "    for j in range(height):\n",
        "        r,g,b,p=img.getpixel((i,j))\n",
        "        print(\"r \",r,\" g \",g,\" b \",b,\" p \",p)\n"
      ],
      "metadata": {
        "id": "COkBPGGWst9D"
      },
      "execution_count": null,
      "outputs": []
    },
    {
      "cell_type": "code",
      "source": [
        "# Lab 3-B 2: Data sampling\n",
        "%matplotlib inline\n",
        "import numpy as np\n",
        "import pandas as pd\n",
        "import matplotlib.pyplot as plt\n",
        "N=10000\n",
        "mean=10\n",
        "sd=2\n",
        "population_dt=np.random.normal(mean,sd,N)\n",
        "def random_sampling(df,n):\n",
        "  random_sample=np.random.choice(df,replace=False,size=n)\n",
        "  return random_sample\n",
        "random_sample=random_sampling(population_dt,N)\n",
        "random_sample\n",
        "fig, axs = plt.subplots()\n",
        "axs.plot(population_dt)\n",
        "# population_dt.plot(Kind=\"scatter\",title=\"plot\")\n",
        "# random_sample.head(10)\n",
        "# random_sample.tail(120)"
      ],
      "metadata": {
        "colab": {
          "base_uri": "https://localhost:8080/",
          "height": 447
        },
        "id": "RkITTzFDuiq6",
        "outputId": "5d0fe333-0503-41aa-bf9a-2478580e7900"
      },
      "execution_count": 17,
      "outputs": [
        {
          "output_type": "execute_result",
          "data": {
            "text/plain": [
              "[<matplotlib.lines.Line2D at 0x7f8c21a67550>]"
            ]
          },
          "metadata": {},
          "execution_count": 17
        },
        {
          "output_type": "display_data",
          "data": {
            "text/plain": [
              "<Figure size 640x480 with 1 Axes>"
            ],
            "image/png": "[encoded data removed]"
          },
          "metadata": {}
        }
      ]
    },
    {
      "cell_type": "code",
      "source": [
        "# Lab 4: Linear Regression\n",
        "# -*- coding: utf-8 -*-\n",
        "\"\"\"Lab4_LinearRegression\n",
        "\n",
        "Automatically generated by Colaboratory.\n",
        "\n",
        "Original file is located at\n",
        "    https://colab.research.google.com/drive/1VvaoIJoJ-USuX82uAMblp6UH4FflDizM\n",
        "\"\"\"\n",
        "\n",
        "import numpy as np\n",
        "import pandas as pd\n",
        "import matplotlib.pyplot as plt\n",
        "\n",
        "from sklearn import datasets\n",
        "from sklearn.metrics import mean_squared_error, r2_score\n",
        "from sklearn.linear_model import LinearRegression\n",
        "from sklearn.model_selection import train_test_split\n",
        "\n",
        "iris=datasets.load_iris()\n",
        "iris.target\n",
        "X=iris.data\n",
        "Y=iris.target\n",
        "# print('X: ',X)\n",
        "# print('\\n\\nY: ',Y)\n",
        "\n",
        "clf=LinearRegression()\n",
        "x_train, x_test, y_train, y_test=train_test_split(X,Y,test_size=0.2,random_state=40)\n",
        "\n",
        "clf.fit(x_train,y_train)\n",
        "score=clf.score(x_test,y_test)\n",
        "print(score)\n",
        "pred=clf.predict(x_test)\n",
        "print('pred: ',pred)\n",
        "\n",
        "print(clf.intercept_)\n",
        "print(r2_score(pred,y_test))\n",
        "print(clf.coef_)\n",
        "print(mean_squared_error(pred,y_test))\n",
        "\n"
      ],
      "metadata": {
        "colab": {
          "base_uri": "https://localhost:8080/"
        },
        "id": "4fmDspbasQqp",
        "outputId": "370b7367-966c-44ec-99f1-f8ed8fd6d647"
      },
      "execution_count": 18,
      "outputs": [
        {
          "output_type": "stream",
          "name": "stdout",
          "text": [
            "0.9235413296129528\n",
            "pred:  [ 0.01136689  1.42180667  1.95904146  2.04922364  1.2023588   2.10825359\n",
            "  1.34482093  1.2344271   1.45468214 -0.10399721  1.25017588  0.01566994\n",
            " -0.04347468  1.58139549  0.86005697  2.1294761   1.59462095  1.9002351\n",
            "  1.25352809  1.27661398  1.99342586  2.00303368  1.20776896 -0.03295431\n",
            "  1.06726831 -0.05882164 -0.08342184  1.71537886 -0.0769209   0.95225882]\n",
            "0.3507037980744492\n",
            "0.9234300875726299\n",
            "[-0.16437734 -0.02705083  0.26958104  0.57310249]\n",
            "0.045535385919397035\n"
          ]
        }
      ]
    },
    {
      "cell_type": "code",
      "source": [
        "#LAB -- 5\n",
        "#Eigenvalue\n",
        "import numpy as np\n",
        "from numpy.linalg import qr\n",
        "a = np.array([[0, 2,3], \n",
        "              [2, 3,5],\n",
        "              [3 ,4,5]])\n",
        "\n",
        "p = [1, 5, 10, 20,30]\n",
        "for i in range(30):\n",
        "    q, r = qr(a)\n",
        "    a = np.dot(r, q)\n",
        "    if i+1 in p:\n",
        "        print(f'Iteration {i+1}:')\n",
        "        print(a)\n",
        "#Eigenvector corresponding to maximum eigenvalue\n",
        "import numpy as np\n",
        "def normalize(x):\n",
        "    fac = abs(x).max()\n",
        "    x_n = x / x.max()\n",
        "    return fac, x_n\n",
        "x = np.array([1, 1,1])\n",
        "a = np.array([[0, 2,3], \n",
        "              [2, 3,5],\n",
        "              [3 ,4,5]])\n",
        "\n",
        "for i in range(8):\n",
        "    x = np.dot(a, x)\n",
        "    lambda_1, x = normalize(x)\n",
        "    \n",
        "print('Eigenvalue:', lambda_1)\n",
        "print('Eigenvector:', x)\n",
        "\n",
        "#Eigenvector corresponding to minimum eigenvalue\n",
        "from numpy.linalg import inv\n",
        "a_inv = inv(a)\n",
        "\n",
        "for i in range(8):\n",
        "    x = np.dot(a_inv, x)\n",
        "    lambda_1, x = normalize(x)\n",
        "    \n",
        "print('Eigenvalue:', lambda_1)\n",
        "print('Eigenvector:', x)\n"
      ],
      "metadata": {
        "colab": {
          "base_uri": "https://localhost:8080/"
        },
        "id": "55yzckYv-39f",
        "outputId": "e333a2a1-6d67-4db2-8b7e-f4742b263f4b"
      },
      "execution_count": 25,
      "outputs": [
        {
          "output_type": "stream",
          "name": "stdout",
          "text": [
            "Iteration 1:\n",
            "[[ 8.53846154 -3.61363945 -0.19048483]\n",
            " [-3.75100002 -0.01015965  0.07326229]\n",
            " [ 0.80003628  0.07326229 -0.52830189]]\n",
            "Iteration 5:\n",
            "[[ 9.89139701e+00  4.83448514e-01 -8.05614047e-01]\n",
            " [-1.70807615e-03 -1.37991119e+00 -3.34245572e-01]\n",
            " [ 5.73684428e-06  5.75420311e-03 -5.11485813e-01]]\n",
            "Iteration 10:\n",
            "[[ 9.89132336e+00  4.90459322e-01  8.02350924e-01]\n",
            " [ 8.96249054e-08 -1.37763286e+00  3.40080374e-01]\n",
            " [ 2.16201094e-12 -4.12734342e-05 -5.13690497e-01]]\n",
            "Iteration 20:\n",
            "[[ 9.89132336e+00  4.90497562e-01  8.02327496e-01]\n",
            " [ 2.46134495e-16 -1.37761662e+00  3.40121639e-01]\n",
            " [ 3.08644398e-25 -2.14547383e-09 -5.13706744e-01]]\n",
            "Iteration 30:\n",
            "[[ 9.89132336e+00  4.90497564e-01  8.02327495e-01]\n",
            " [ 6.75946324e-25 -1.37761662e+00  3.40121641e-01]\n",
            " [ 4.40622912e-38 -1.11530120e-13 -5.13706744e-01]]\n",
            "Eigenvalue: 9.891320757684891\n",
            "Eigenvector: [0.47805354 0.86429078 1.        ]\n",
            "Eigenvalue: 0.08333339306853582\n",
            "Eigenvector: [0.99999915 1.         0.99999879]\n"
          ]
        }
      ]
    },
    {
      "cell_type": "code",
      "source": [
        "# LAB 6 - I Decision Tree\n",
        "# Download the data from the given link https://www.kaggle.com/datasets/priy998/golf-play-dataset?select=golf_df.csv\n",
        "!pip install chefboost\n",
        "golf_dataset = pd.read_csv('/content/golf_df.csv') \n",
        "from chefboost import Chefboost as chef\n",
        "config = {'algorithm': 'C4.5'}\n",
        "model = chef.fit(golf_dataset, config = config, target_label = 'Play')"
      ],
      "metadata": {
        "colab": {
          "base_uri": "https://localhost:8080/"
        },
        "id": "KbSDg3KkUD06",
        "outputId": "e3eba0b1-0366-4245-fdd5-163b59c73fe9"
      },
      "execution_count": 26,
      "outputs": [
        {
          "output_type": "stream",
          "name": "stdout",
          "text": [
            "Looking in indexes: https://pypi.org/simple, https://us-python.pkg.dev/colab-wheels/public/simple/\n",
            "Requirement already satisfied: chefboost in /usr/local/lib/python3.10/dist-packages (0.0.17)\n",
            "Requirement already satisfied: pandas>=0.22.0 in /usr/local/lib/python3.10/dist-packages (from chefboost) (1.5.3)\n",
            "Requirement already satisfied: numpy>=1.14.0 in /usr/local/lib/python3.10/dist-packages (from chefboost) (1.22.4)\n",
            "Requirement already satisfied: tqdm>=4.30.0 in /usr/local/lib/python3.10/dist-packages (from chefboost) (4.65.0)\n",
            "Requirement already satisfied: psutil>=5.4.3 in /usr/local/lib/python3.10/dist-packages (from chefboost) (5.9.5)\n",
            "Requirement already satisfied: python-dateutil>=2.8.1 in /usr/local/lib/python3.10/dist-packages (from pandas>=0.22.0->chefboost) (2.8.2)\n",
            "Requirement already satisfied: pytz>=2020.1 in /usr/local/lib/python3.10/dist-packages (from pandas>=0.22.0->chefboost) (2022.7.1)\n",
            "Requirement already satisfied: six>=1.5 in /usr/local/lib/python3.10/dist-packages (from python-dateutil>=2.8.1->pandas>=0.22.0->chefboost) (1.16.0)\n",
            "[INFO]:  1 CPU cores will be allocated in parallel running\n",
            "C4.5  tree is going to be built...\n",
            "-------------------------\n",
            "finished in  0.7197721004486084  seconds\n",
            "-------------------------\n",
            "Evaluate  train set\n",
            "-------------------------\n",
            "Accuracy:  100.0 % on  14  instances\n",
            "Labels:  ['no' 'yes']\n",
            "Confusion matrix:  [[5, 0], [0, 9]]\n",
            "Precision:  100.0 %, Recall:  100.0 %, F1:  100.0 %\n"
          ]
        }
      ]
    },
    {
      "cell_type": "code",
      "source": [
        "#LAB_6 -- II Decision Tree on Wine dataset\n",
        "wine_dataset  = datasets.load_wine()\n",
        "wine_x = wine_dataset.data\n",
        "wine_y = wine_dataset.target\n",
        "wine_x_train,wine_x_test,wine_y_train,wine_y_test = train_test_split(wine_x,wine_y,test_size = 0.3)\n",
        "\n",
        "decision_tree_clf = DecisionTreeClassifier(criterion = 'entropy') # As id3 tree algorithm use entropy for loss calculation\n",
        "decision_tree_clf.fit(wine_x_train,wine_y_train)\n",
        "\n",
        "print(f\"ID3 Accuracy for Wine Dataset : {accuracy_score(wine_y_test,decision_tree_clf.predict(wine_x_test))*100}%\")\n",
        "print(f\"ID3 Classification Report: \\n{classification_report(wine_y_test, decision_tree_clf.predict(wine_x_test))}\")"
      ],
      "metadata": {
        "colab": {
          "base_uri": "https://localhost:8080/"
        },
        "id": "S9OtLgQjUD3h",
        "outputId": "07c59430-95b1-435f-a93c-565f92311dbe"
      },
      "execution_count": 7,
      "outputs": [
        {
          "output_type": "stream",
          "name": "stdout",
          "text": [
            "ID3 Accuracy for Wine Dataset : 92.5925925925926%\n",
            "ID3 Classification Report: \n",
            "              precision    recall  f1-score   support\n",
            "\n",
            "           0       0.85      1.00      0.92        11\n",
            "           1       0.95      0.86      0.90        22\n",
            "           2       0.95      0.95      0.95        21\n",
            "\n",
            "    accuracy                           0.93        54\n",
            "   macro avg       0.92      0.94      0.92        54\n",
            "weighted avg       0.93      0.93      0.93        54\n",
            "\n"
          ]
        }
      ]
    },
    {
      "cell_type": "code",
      "source": [
        "#LAB 7 Naive Bayes Algorithm\n",
        "#Download the datset from this link - - https://www.kaggle.com/datasets/devvret/congressional-voting-records?select=house-votes-84.csv\n",
        "df = pd.read_csv('/content/house-votes-84.csv')## Upload the datsets into colab and copy the path\n",
        "\n",
        "house_votes_x = df.drop(['Class Name'],axis = 1)\n",
        "house_votes_y=  df['Class Name']\n",
        "\n",
        "for col in house_votes_x.columns:\n",
        "    house_votes_x[col] = [1 if vote == 'y' else 0 for vote in house_votes_x[col]]\n",
        "house_votes_y = [1 if vote == 'republican' else 0 for vote in house_votes_y]\n",
        "house_votes_x_train,house_votes_x_test,house_votes_y_train,house_votes_y_test = train_test_split(house_votes_x,house_votes_y,test_size = 0.3)\n",
        "\n",
        "naive_bayes_classifier= GaussianNB().fit(house_votes_x_train,house_votes_y_train)\n",
        "print(f\"Naive Bayes Accuracy for Wine Dataset : {accuracy_score(house_votes_y_test,naive_bayes_classifier.predict(house_votes_x_test))*100}%\")\n",
        "print(f\"Naive Bayes Classification Report: \\n{classification_report(house_votes_y_test,naive_bayes_classifier.predict(house_votes_x_test))}\")"
      ],
      "metadata": {
        "colab": {
          "base_uri": "https://localhost:8080/"
        },
        "id": "R8yJt7YxUD7E",
        "outputId": "685265a5-636c-4509-a71c-e0b610f2318f"
      },
      "execution_count": 8,
      "outputs": [
        {
          "output_type": "stream",
          "name": "stdout",
          "text": [
            "Naive Bayes Accuracy for Wine Dataset : 95.41984732824427%\n",
            "Naive Bayes Classification Report: \n",
            "              precision    recall  f1-score   support\n",
            "\n",
            "           0       0.96      0.96      0.96        81\n",
            "           1       0.94      0.94      0.94        50\n",
            "\n",
            "    accuracy                           0.95       131\n",
            "   macro avg       0.95      0.95      0.95       131\n",
            "weighted avg       0.95      0.95      0.95       131\n",
            "\n"
          ]
        }
      ]
    },
    {
      "cell_type": "code",
      "source": [
        "#LAB -- 8 KNN Algorithm \n",
        "iris = datasets.load_iris()\n",
        "iris_data_x = iris.data\n",
        "iris_data_y = iris.target\n",
        "\n",
        "iris_data_x_train,iris_data_x_test,iris_data_y_train,iris_data_y_test = train_test_split(iris_data_x,iris_data_y,test_size = 0.3)\n",
        "KNN_Clf = KNeighborsClassifier().fit(iris_data_x_train,iris_data_y_train)\n",
        "print(f\"K-Nearest Neighbors classifier Accuracy for Wine Dataset : {accuracy_score(iris_data_y_test,KNN_Clf.predict(iris_data_x_test))*100}%\")\n",
        "print(f\"K-Nearest Neighbors classifier Classification Report: \\n{classification_report(iris_data_y_test,KNN_Clf.predict(iris_data_x_test))}\")"
      ],
      "metadata": {
        "id": "NXcit8RPeZ0B",
        "colab": {
          "base_uri": "https://localhost:8080/"
        },
        "outputId": "78f0173a-efbb-4e26-94b7-11e129a2772a"
      },
      "execution_count": 12,
      "outputs": [
        {
          "output_type": "stream",
          "name": "stdout",
          "text": [
            "K-Nearest Neighbors classifier Accuracy for Wine Dataset : 97.77777777777777%\n",
            "K-Nearest Neighbors classifier Classification Report: \n",
            "              precision    recall  f1-score   support\n",
            "\n",
            "           0       1.00      1.00      1.00        13\n",
            "           1       1.00      0.94      0.97        16\n",
            "           2       0.94      1.00      0.97        16\n",
            "\n",
            "    accuracy                           0.98        45\n",
            "   macro avg       0.98      0.98      0.98        45\n",
            "weighted avg       0.98      0.98      0.98        45\n",
            "\n"
          ]
        }
      ]
    },
    {
      "cell_type": "code",
      "source": [
        "#LAB -- 9 SVM on Parkinson's Dataset\n",
        "url ='https://archive.ics.uci.edu/ml/machine-learning-databases/parkinsons/parkinsons.data' # data for lab 9\n",
        "data = pd.read_csv(url)\n",
        "\n",
        "parkinson_data_x  = data.drop(['status','name'],axis=1)\n",
        "parkinson_data_y = data['status']\n",
        "\n",
        "parkinson_data_x_train ,parkinson_data_x_test, parkinson_data_y_train ,parkinson_data_y_test= train_test_split(parkinson_data_x,parkinson_data_y,test_size  = 0.3)\n",
        "svm_clf = SVC().fit(parkinson_data_x_train,parkinson_data_y_train)\n",
        "print(f\"Support Vector Classifier Accuracy for Wine Dataset : {accuracy_score(parkinson_data_y_test,svm_clf.predict(parkinson_data_x_test))*100}%\")\n",
        "print(f\"Support Vector Classifier Classification Report: \\n{classification_report(parkinson_data_y_test,svm_clf.predict(parkinson_data_x_test))}\")"
      ],
      "metadata": {
        "colab": {
          "base_uri": "https://localhost:8080/"
        },
        "id": "_Ulg7N3k3fDI",
        "outputId": "4d8aa5fa-b5b1-4d78-cac2-18c0d221eb7f"
      },
      "execution_count": 11,
      "outputs": [
        {
          "output_type": "stream",
          "name": "stdout",
          "text": [
            "Support Vector Classifier Accuracy for Wine Dataset : 79.66101694915254%\n",
            "Support Vector Classifier Classification Report: \n",
            "              precision    recall  f1-score   support\n",
            "\n",
            "           0       1.00      0.29      0.45        17\n",
            "           1       0.78      1.00      0.88        42\n",
            "\n",
            "    accuracy                           0.80        59\n",
            "   macro avg       0.89      0.65      0.66        59\n",
            "weighted avg       0.84      0.80      0.75        59\n",
            "\n"
          ]
        }
      ]
    },
    {
      "cell_type": "code",
      "source": [
        "#LAB -- 10 Comparsion of classification of different algos\n",
        "from sklearn.model_selection import train_test_split\n",
        "x= iris.data\n",
        "y = iris.target\n",
        "x_train,x_test,y_train,y_test = train_test_split(x,y,test_size=0.3)\n",
        "\n",
        "\n",
        "from sklearn import svm\n",
        "clf = svm.SVC()\n",
        "clf.fit(x_train, y_train)\n",
        "y_pred_svm = clf.predict(x_test)\n",
        "clf.support_vectors_\n",
        "print(f\"SVM Classification Report: \\n{classification_report(y_test, y_pred_svm)}\")\n",
        "\n",
        "import numpy as np\n",
        "from sklearn.neighbors import KNeighborsClassifier\n",
        "knn  = KNeighborsClassifier()\n",
        "\n",
        "\n",
        "knn  = knn.fit(x_train,y_train)\n",
        "y_pred_knn = knn.predict(x_test)\n",
        "print(f\"KNN Classification Report: \\n{classification_report(y_test, y_pred_knn)}\")\n",
        "\n",
        "from sklearn.tree import DecisionTreeClassifier\n",
        "from sklearn.metrics import accuracy_score\n",
        "\n",
        "id3 = DecisionTreeClassifier(criterion='entropy')\n",
        "id3.fit(x_train, y_train)\n",
        "y_pred_id3 = id3.predict(x_test)\n",
        "accuracy_id3 = accuracy_score(y_test, y_pred_id3)\n",
        "print(f\"ID3 Accuracy: {accuracy_id3}\")\n",
        "print(f\"ID3 Classification Report: \\n{classification_report(y_test, y_pred_id3)}\")"
      ],
      "metadata": {
        "colab": {
          "base_uri": "https://localhost:8080/"
        },
        "id": "izgKDBGo3fF_",
        "outputId": "f1cc1d29-2fd9-4f06-b2de-0c0f46bdc277"
      },
      "execution_count": 20,
      "outputs": [
        {
          "output_type": "stream",
          "name": "stdout",
          "text": [
            "SVM Classification Report: \n",
            "              precision    recall  f1-score   support\n",
            "\n",
            "           0       1.00      1.00      1.00        17\n",
            "           1       1.00      0.86      0.92        14\n",
            "           2       0.88      1.00      0.93        14\n",
            "\n",
            "    accuracy                           0.96        45\n",
            "   macro avg       0.96      0.95      0.95        45\n",
            "weighted avg       0.96      0.96      0.96        45\n",
            "\n",
            "KNN Classification Report: \n",
            "              precision    recall  f1-score   support\n",
            "\n",
            "           0       1.00      1.00      1.00        17\n",
            "           1       1.00      0.93      0.96        14\n",
            "           2       0.93      1.00      0.97        14\n",
            "\n",
            "    accuracy                           0.98        45\n",
            "   macro avg       0.98      0.98      0.98        45\n",
            "weighted avg       0.98      0.98      0.98        45\n",
            "\n",
            "ID3 Accuracy: 0.9333333333333333\n",
            "ID3 Classification Report: \n",
            "              precision    recall  f1-score   support\n",
            "\n",
            "           0       1.00      1.00      1.00        17\n",
            "           1       0.92      0.86      0.89        14\n",
            "           2       0.87      0.93      0.90        14\n",
            "\n",
            "    accuracy                           0.93        45\n",
            "   macro avg       0.93      0.93      0.93        45\n",
            "weighted avg       0.93      0.93      0.93        45\n",
            "\n"
          ]
        }
      ]
    },
    {
      "cell_type": "code",
      "source": [
        "# Lab 11: 11.\tImplement Logistic Regression on a sample dataset \n",
        "# Data from- https://github.com/nikhilkumarsingh/Machine-Learning-Samples/blob/master/Logistic_Regression/dataset1.csv\n",
        "import pandas as pd\n",
        "from sklearn import metrics\n",
        "from sklearn.model_selection import train_test_split\n",
        "from sklearn.linear_model import LogisticRegression\n",
        "\n",
        "data=pd.read_csv('/content/dataset1.csv')\n",
        "\n",
        "x=data.iloc[:,:-1].values\n",
        "y=data.iloc[:,-1].values\n",
        "\n",
        "x_train, x_test, y_train, y_test=train_test_split(x,y,test_size=0.3)\n",
        "er=LogisticRegression().fit(x_train,y_train)\n",
        "y_pred=er.predict(x_test)\n",
        "accuracy=accuracy_score(y_test,y_pred)\n",
        "print('accuracy: ',accuracy)"
      ],
      "metadata": {
        "id": "NZh-tU853fK2",
        "colab": {
          "base_uri": "https://localhost:8080/",
          "height": 398
        },
        "outputId": "d77f0575-bc76-460c-b8c9-7eab4203becb"
      },
      "execution_count": 14,
      "outputs": [
        {
          "output_type": "error",
          "ename": "FileNotFoundError",
          "evalue": "ignored",
          "traceback": [
            "\u001b[0;31m---------------------------------------------------------------------------\u001b[0m",
            "\u001b[0;31mFileNotFoundError\u001b[0m                         Traceback (most recent call last)",
            "\u001b[0;32m<ipython-input-14-21d337d7b75a>\u001b[0m in \u001b[0;36m<cell line: 7>\u001b[0;34m()\u001b[0m\n\u001b[1;32m      5\u001b[0m \u001b[0;32mfrom\u001b[0m \u001b[0msklearn\u001b[0m\u001b[0;34m.\u001b[0m\u001b[0mlinear_model\u001b[0m \u001b[0;32mimport\u001b[0m \u001b[0mLogisticRegression\u001b[0m\u001b[0;34m\u001b[0m\u001b[0;34m\u001b[0m\u001b[0m\n\u001b[1;32m      6\u001b[0m \u001b[0;34m\u001b[0m\u001b[0m\n\u001b[0;32m----> 7\u001b[0;31m \u001b[0mdata\u001b[0m\u001b[0;34m=\u001b[0m\u001b[0mpd\u001b[0m\u001b[0;34m.\u001b[0m\u001b[0mread_csv\u001b[0m\u001b[0;34m(\u001b[0m\u001b[0;34m'/content/dataset1.csv'\u001b[0m\u001b[0;34m)\u001b[0m\u001b[0;34m\u001b[0m\u001b[0;34m\u001b[0m\u001b[0m\n\u001b[0m\u001b[1;32m      8\u001b[0m \u001b[0;34m\u001b[0m\u001b[0m\n\u001b[1;32m      9\u001b[0m \u001b[0mx\u001b[0m\u001b[0;34m=\u001b[0m\u001b[0mdata\u001b[0m\u001b[0;34m.\u001b[0m\u001b[0miloc\u001b[0m\u001b[0;34m[\u001b[0m\u001b[0;34m:\u001b[0m\u001b[0;34m,\u001b[0m\u001b[0;34m:\u001b[0m\u001b[0;34m-\u001b[0m\u001b[0;36m1\u001b[0m\u001b[0;34m]\u001b[0m\u001b[0;34m.\u001b[0m\u001b[0mvalues\u001b[0m\u001b[0;34m\u001b[0m\u001b[0;34m\u001b[0m\u001b[0m\n",
            "\u001b[0;32m/usr/local/lib/python3.10/dist-packages/pandas/util/_decorators.py\u001b[0m in \u001b[0;36mwrapper\u001b[0;34m(*args, **kwargs)\u001b[0m\n\u001b[1;32m    209\u001b[0m                 \u001b[0;32melse\u001b[0m\u001b[0;34m:\u001b[0m\u001b[0;34m\u001b[0m\u001b[0;34m\u001b[0m\u001b[0m\n\u001b[1;32m    210\u001b[0m                     \u001b[0mkwargs\u001b[0m\u001b[0;34m[\u001b[0m\u001b[0mnew_arg_name\u001b[0m\u001b[0;34m]\u001b[0m \u001b[0;34m=\u001b[0m \u001b[0mnew_arg_value\u001b[0m\u001b[0;34m\u001b[0m\u001b[0;34m\u001b[0m\u001b[0m\n\u001b[0;32m--> 211\u001b[0;31m             \u001b[0;32mreturn\u001b[0m \u001b[0mfunc\u001b[0m\u001b[0;34m(\u001b[0m\u001b[0;34m*\u001b[0m\u001b[0margs\u001b[0m\u001b[0;34m,\u001b[0m \u001b[0;34m**\u001b[0m\u001b[0mkwargs\u001b[0m\u001b[0;34m)\u001b[0m\u001b[0;34m\u001b[0m\u001b[0;34m\u001b[0m\u001b[0m\n\u001b[0m\u001b[1;32m    212\u001b[0m \u001b[0;34m\u001b[0m\u001b[0m\n\u001b[1;32m    213\u001b[0m         \u001b[0;32mreturn\u001b[0m \u001b[0mcast\u001b[0m\u001b[0;34m(\u001b[0m\u001b[0mF\u001b[0m\u001b[0;34m,\u001b[0m \u001b[0mwrapper\u001b[0m\u001b[0;34m)\u001b[0m\u001b[0;34m\u001b[0m\u001b[0;34m\u001b[0m\u001b[0m\n",
            "\u001b[0;32m/usr/local/lib/python3.10/dist-packages/pandas/util/_decorators.py\u001b[0m in \u001b[0;36mwrapper\u001b[0;34m(*args, **kwargs)\u001b[0m\n\u001b[1;32m    329\u001b[0m                     \u001b[0mstacklevel\u001b[0m\u001b[0;34m=\u001b[0m\u001b[0mfind_stack_level\u001b[0m\u001b[0;34m(\u001b[0m\u001b[0;34m)\u001b[0m\u001b[0;34m,\u001b[0m\u001b[0;34m\u001b[0m\u001b[0;34m\u001b[0m\u001b[0m\n\u001b[1;32m    330\u001b[0m                 )\n\u001b[0;32m--> 331\u001b[0;31m             \u001b[0;32mreturn\u001b[0m \u001b[0mfunc\u001b[0m\u001b[0;34m(\u001b[0m\u001b[0;34m*\u001b[0m\u001b[0margs\u001b[0m\u001b[0;34m,\u001b[0m \u001b[0;34m**\u001b[0m\u001b[0mkwargs\u001b[0m\u001b[0;34m)\u001b[0m\u001b[0;34m\u001b[0m\u001b[0;34m\u001b[0m\u001b[0m\n\u001b[0m\u001b[1;32m    332\u001b[0m \u001b[0;34m\u001b[0m\u001b[0m\n\u001b[1;32m    333\u001b[0m         \u001b[0;31m# error: \"Callable[[VarArg(Any), KwArg(Any)], Any]\" has no\u001b[0m\u001b[0;34m\u001b[0m\u001b[0;34m\u001b[0m\u001b[0m\n",
            "\u001b[0;32m/usr/local/lib/python3.10/dist-packages/pandas/io/parsers/readers.py\u001b[0m in \u001b[0;36mread_csv\u001b[0;34m(filepath_or_buffer, sep, delimiter, header, names, index_col, usecols, squeeze, prefix, mangle_dupe_cols, dtype, engine, converters, true_values, false_values, skipinitialspace, skiprows, skipfooter, nrows, na_values, keep_default_na, na_filter, verbose, skip_blank_lines, parse_dates, infer_datetime_format, keep_date_col, date_parser, dayfirst, cache_dates, iterator, chunksize, compression, thousands, decimal, lineterminator, quotechar, quoting, doublequote, escapechar, comment, encoding, encoding_errors, dialect, error_bad_lines, warn_bad_lines, on_bad_lines, delim_whitespace, low_memory, memory_map, float_precision, storage_options)\u001b[0m\n\u001b[1;32m    948\u001b[0m     \u001b[0mkwds\u001b[0m\u001b[0;34m.\u001b[0m\u001b[0mupdate\u001b[0m\u001b[0;34m(\u001b[0m\u001b[0mkwds_defaults\u001b[0m\u001b[0;34m)\u001b[0m\u001b[0;34m\u001b[0m\u001b[0;34m\u001b[0m\u001b[0m\n\u001b[1;32m    949\u001b[0m \u001b[0;34m\u001b[0m\u001b[0m\n\u001b[0;32m--> 950\u001b[0;31m     \u001b[0;32mreturn\u001b[0m \u001b[0m_read\u001b[0m\u001b[0;34m(\u001b[0m\u001b[0mfilepath_or_buffer\u001b[0m\u001b[0;34m,\u001b[0m \u001b[0mkwds\u001b[0m\u001b[0;34m)\u001b[0m\u001b[0;34m\u001b[0m\u001b[0;34m\u001b[0m\u001b[0m\n\u001b[0m\u001b[1;32m    951\u001b[0m \u001b[0;34m\u001b[0m\u001b[0m\n\u001b[1;32m    952\u001b[0m \u001b[0;34m\u001b[0m\u001b[0m\n",
            "\u001b[0;32m/usr/local/lib/python3.10/dist-packages/pandas/io/parsers/readers.py\u001b[0m in \u001b[0;36m_read\u001b[0;34m(filepath_or_buffer, kwds)\u001b[0m\n\u001b[1;32m    603\u001b[0m \u001b[0;34m\u001b[0m\u001b[0m\n\u001b[1;32m    604\u001b[0m     \u001b[0;31m# Create the parser.\u001b[0m\u001b[0;34m\u001b[0m\u001b[0;34m\u001b[0m\u001b[0m\n\u001b[0;32m--> 605\u001b[0;31m     \u001b[0mparser\u001b[0m \u001b[0;34m=\u001b[0m \u001b[0mTextFileReader\u001b[0m\u001b[0;34m(\u001b[0m\u001b[0mfilepath_or_buffer\u001b[0m\u001b[0;34m,\u001b[0m \u001b[0;34m**\u001b[0m\u001b[0mkwds\u001b[0m\u001b[0;34m)\u001b[0m\u001b[0;34m\u001b[0m\u001b[0;34m\u001b[0m\u001b[0m\n\u001b[0m\u001b[1;32m    606\u001b[0m \u001b[0;34m\u001b[0m\u001b[0m\n\u001b[1;32m    607\u001b[0m     \u001b[0;32mif\u001b[0m \u001b[0mchunksize\u001b[0m \u001b[0;32mor\u001b[0m \u001b[0miterator\u001b[0m\u001b[0;34m:\u001b[0m\u001b[0;34m\u001b[0m\u001b[0;34m\u001b[0m\u001b[0m\n",
            "\u001b[0;32m/usr/local/lib/python3.10/dist-packages/pandas/io/parsers/readers.py\u001b[0m in \u001b[0;36m__init__\u001b[0;34m(self, f, engine, **kwds)\u001b[0m\n\u001b[1;32m   1440\u001b[0m \u001b[0;34m\u001b[0m\u001b[0m\n\u001b[1;32m   1441\u001b[0m         \u001b[0mself\u001b[0m\u001b[0;34m.\u001b[0m\u001b[0mhandles\u001b[0m\u001b[0;34m:\u001b[0m \u001b[0mIOHandles\u001b[0m \u001b[0;34m|\u001b[0m \u001b[0;32mNone\u001b[0m \u001b[0;34m=\u001b[0m \u001b[0;32mNone\u001b[0m\u001b[0;34m\u001b[0m\u001b[0;34m\u001b[0m\u001b[0m\n\u001b[0;32m-> 1442\u001b[0;31m         \u001b[0mself\u001b[0m\u001b[0;34m.\u001b[0m\u001b[0m_engine\u001b[0m \u001b[0;34m=\u001b[0m \u001b[0mself\u001b[0m\u001b[0;34m.\u001b[0m\u001b[0m_make_engine\u001b[0m\u001b[0;34m(\u001b[0m\u001b[0mf\u001b[0m\u001b[0;34m,\u001b[0m \u001b[0mself\u001b[0m\u001b[0;34m.\u001b[0m\u001b[0mengine\u001b[0m\u001b[0;34m)\u001b[0m\u001b[0;34m\u001b[0m\u001b[0;34m\u001b[0m\u001b[0m\n\u001b[0m\u001b[1;32m   1443\u001b[0m \u001b[0;34m\u001b[0m\u001b[0m\n\u001b[1;32m   1444\u001b[0m     \u001b[0;32mdef\u001b[0m \u001b[0mclose\u001b[0m\u001b[0;34m(\u001b[0m\u001b[0mself\u001b[0m\u001b[0;34m)\u001b[0m \u001b[0;34m->\u001b[0m \u001b[0;32mNone\u001b[0m\u001b[0;34m:\u001b[0m\u001b[0;34m\u001b[0m\u001b[0;34m\u001b[0m\u001b[0m\n",
            "\u001b[0;32m/usr/local/lib/python3.10/dist-packages/pandas/io/parsers/readers.py\u001b[0m in \u001b[0;36m_make_engine\u001b[0;34m(self, f, engine)\u001b[0m\n\u001b[1;32m   1733\u001b[0m                 \u001b[0;32mif\u001b[0m \u001b[0;34m\"b\"\u001b[0m \u001b[0;32mnot\u001b[0m \u001b[0;32min\u001b[0m \u001b[0mmode\u001b[0m\u001b[0;34m:\u001b[0m\u001b[0;34m\u001b[0m\u001b[0;34m\u001b[0m\u001b[0m\n\u001b[1;32m   1734\u001b[0m                     \u001b[0mmode\u001b[0m \u001b[0;34m+=\u001b[0m \u001b[0;34m\"b\"\u001b[0m\u001b[0;34m\u001b[0m\u001b[0;34m\u001b[0m\u001b[0m\n\u001b[0;32m-> 1735\u001b[0;31m             self.handles = get_handle(\n\u001b[0m\u001b[1;32m   1736\u001b[0m                 \u001b[0mf\u001b[0m\u001b[0;34m,\u001b[0m\u001b[0;34m\u001b[0m\u001b[0;34m\u001b[0m\u001b[0m\n\u001b[1;32m   1737\u001b[0m                 \u001b[0mmode\u001b[0m\u001b[0;34m,\u001b[0m\u001b[0;34m\u001b[0m\u001b[0;34m\u001b[0m\u001b[0m\n",
            "\u001b[0;32m/usr/local/lib/python3.10/dist-packages/pandas/io/common.py\u001b[0m in \u001b[0;36mget_handle\u001b[0;34m(path_or_buf, mode, encoding, compression, memory_map, is_text, errors, storage_options)\u001b[0m\n\u001b[1;32m    854\u001b[0m         \u001b[0;32mif\u001b[0m \u001b[0mioargs\u001b[0m\u001b[0;34m.\u001b[0m\u001b[0mencoding\u001b[0m \u001b[0;32mand\u001b[0m \u001b[0;34m\"b\"\u001b[0m \u001b[0;32mnot\u001b[0m \u001b[0;32min\u001b[0m \u001b[0mioargs\u001b[0m\u001b[0;34m.\u001b[0m\u001b[0mmode\u001b[0m\u001b[0;34m:\u001b[0m\u001b[0;34m\u001b[0m\u001b[0;34m\u001b[0m\u001b[0m\n\u001b[1;32m    855\u001b[0m             \u001b[0;31m# Encoding\u001b[0m\u001b[0;34m\u001b[0m\u001b[0;34m\u001b[0m\u001b[0m\n\u001b[0;32m--> 856\u001b[0;31m             handle = open(\n\u001b[0m\u001b[1;32m    857\u001b[0m                 \u001b[0mhandle\u001b[0m\u001b[0;34m,\u001b[0m\u001b[0;34m\u001b[0m\u001b[0;34m\u001b[0m\u001b[0m\n\u001b[1;32m    858\u001b[0m                 \u001b[0mioargs\u001b[0m\u001b[0;34m.\u001b[0m\u001b[0mmode\u001b[0m\u001b[0;34m,\u001b[0m\u001b[0;34m\u001b[0m\u001b[0;34m\u001b[0m\u001b[0m\n",
            "\u001b[0;31mFileNotFoundError\u001b[0m: [Errno 2] No such file or directory: '/content/dataset1.csv'"
          ]
        }
      ]
    },
    {
      "cell_type": "markdown",
      "source": [],
      "metadata": {
        "id": "sSnJV9XiwvQ9"
      }
    },
    {
      "cell_type": "code",
      "source": [
        "#LAB -- 12: Back Propagation\n",
        "import numpy as np\n",
        "import pandas as pd\n",
        "from sklearn.datasets import fetch_california_housing\n",
        "from sklearn.preprocessing import StandardScaler\n",
        "from sklearn.model_selection import train_test_split\n",
        "\n",
        "# Step 1: Prepare the data\n",
        "california_data = fetch_california_housing()\n",
        "X = california_data.data\n",
        "y = california_data.target.reshape(-1, 1)\n",
        "scaler = StandardScaler()\n",
        "X = scaler.fit_transform(X)\n",
        "X_train, X_test, y_train, y_test = train_test_split(X, y, test_size=0.2, random_state=42)\n",
        "\n",
        "# Step 2: Initialize the network\n",
        "input_size = X_train.shape[1]\n",
        "hidden_size = 32\n",
        "output_size = 1\n",
        "weights1 = np.random.randn(input_size, hidden_size) / np.sqrt(input_size)\n",
        "weights2 = np.random.randn(hidden_size, output_size) / np.sqrt(hidden_size)\n",
        "\n",
        "# Step 3: Forward pass\n",
        "def forward(X):\n",
        "    hidden_layer = np.dot(X, weights1)\n",
        "    hidden_layer = np.maximum(hidden_layer, 0)\n",
        "    output_layer = np.dot(hidden_layer, weights2)\n",
        "    return output_layer\n",
        "\n",
        "# Step 4: Calculate error\n",
        "def mse_loss(y_true, y_pred):\n",
        "    return np.mean(np.square(y_true - y_pred))\n",
        "\n",
        "# Step 5: Backward pass\n",
        "def backward(X, y_true, y_pred, hidden_layer):\n",
        "    output_error = y_pred - y_true\n",
        "    output_delta = output_error / X.shape[0]\n",
        "    hidden_error = np.dot(output_delta, weights2.T)\n",
        "    hidden_delta = hidden_error * (hidden_layer > 0)\n",
        "    weights2_update = np.dot(hidden_layer.T, output_delta)\n",
        "    weights1_update = np.dot(X.T, hidden_delta)\n",
        "    return weights1_update, weights2_update\n",
        "\n",
        "# Step 6: Train the network\n",
        "learning_rate = 0.01\n",
        "epochs = 1000\n",
        "for epoch in range(epochs):\n",
        "    # Forward pass\n",
        "    hidden_layer = np.dot(X_train, weights1)\n",
        "    hidden_layer = np.maximum(hidden_layer, 0)\n",
        "    output_layer = np.dot(hidden_layer, weights2)\n",
        "   \n",
        "    # Calculate loss\n",
        "    loss = mse_loss(y_train, output_layer)\n",
        "   \n",
        "    # Backward pass\n",
        "    weights1_update, weights2_update = backward(X_train, y_train, output_layer, hidden_layer)\n",
        "    weights1 -= learning_rate * weights1_update\n",
        "    weights2 -= learning_rate * weights2_update\n",
        "   \n",
        "    # Print progress\n",
        "    if epoch % 100 == 0:\n",
        "        print(f\"Epoch {epoch}: Loss = {loss:.4f}\")\n",
        "   \n",
        "# Step 7: Evaluate the network\n",
        "y_pred = forward(X_test)\n",
        "rmse = np.sqrt(mse_loss(y_test, y_pred))\n",
        "print(f\"RMSE = {rmse:.4f}\")"
      ],
      "metadata": {
        "colab": {
          "base_uri": "https://localhost:8080/"
        },
        "id": "v1ZRfqnt3fNv",
        "outputId": "cf28d636-f685-4d58-f206-83b3be8dedac"
      },
      "execution_count": 19,
      "outputs": [
        {
          "output_type": "stream",
          "name": "stdout",
          "text": [
            "Epoch 0: Loss = 6.3913\n",
            "Epoch 100: Loss = 1.1489\n",
            "Epoch 200: Loss = 0.9687\n",
            "Epoch 300: Loss = 0.9192\n",
            "Epoch 400: Loss = 0.8843\n",
            "Epoch 500: Loss = 0.8570\n",
            "Epoch 600: Loss = 0.8347\n",
            "Epoch 700: Loss = 0.8159\n",
            "Epoch 800: Loss = 0.7999\n",
            "Epoch 900: Loss = 0.7860\n",
            "RMSE = 0.8932\n"
          ]
        }
      ]
    },
    {
      "cell_type": "code",
      "source": [
        "#LAB -- 13 K Means Clustering using Python\n",
        "import numpy as np\n",
        "# defining the data points\n",
        "data = np.array([[2, 10], [2, 5], [8, 4], [5, 8], [7, 5], [6, 4], [1, 2], [4, 9]])\n",
        "# defining the initial cluster centers\n",
        "centers = np.array([[2, 10], [5, 8], [1, 2]])\n",
        "# defining the number of clusters\n",
        "K = 3\n",
        "# defining the maximum number of iterations\n",
        "max_iters = 10\n",
        "# defining the Euclidean distance function\n",
        "def euclidean_distance(x1, x2):\n",
        "    return np.sqrt(np.sum((x1 - x2) ** 2))\n",
        "# k-means clustering algorithm\n",
        "for i in range(max_iters):\n",
        "    # initializing empty clusters\n",
        "    clusters = [[] for _ in range(K)]\n",
        "    # assigning data points to the closest cluster center\n",
        "    for point in data:\n",
        "        distances = [euclidean_distance(point, center) for center in centers]\n",
        "        closest_center = np.argmin(distances)\n",
        "        clusters[closest_center].append(point)\n",
        "# updating the cluster centers\n",
        "for j in range(K):\n",
        "    centers[j] = np.mean(clusters[j], axis=0)\n",
        "# printing the cluster centers after the first round of execution\n",
        "if i == 0:\n",
        "    print(\"Cluster centers after the first round of execution:\")\n",
        "    print(centers[i])\n",
        "    print()\n",
        "# printing the first three clusters\n",
        "if i < 3:\n",
        "    print(\"Cluster\", i+1, \":\", clusters[i])\n",
        "\n",
        "print('centers: ',centers)\n",
        "print('clusters: ',clusters)\n",
        "#Each line  in a cluster is a seperate cluster"
      ],
      "metadata": {
        "id": "HZsrlvxQeZ2w",
        "colab": {
          "base_uri": "https://localhost:8080/"
        },
        "outputId": "08cff144-6236-43f2-a35e-1561c0eecdd0"
      },
      "execution_count": 18,
      "outputs": [
        {
          "output_type": "stream",
          "name": "stdout",
          "text": [
            "centers:  [[ 2 10]\n",
            " [ 6  6]\n",
            " [ 1  3]]\n",
            "clusters:  [[array([ 2, 10])], [array([8, 4]), array([5, 8]), array([7, 5]), array([6, 4]), array([4, 9])], [array([2, 5]), array([1, 2])]]\n"
          ]
        }
      ]
    },
    {
      "cell_type": "code",
      "source": [],
      "metadata": {
        "id": "HOqkYn9cPFSS"
      },
      "execution_count": null,
      "outputs": []
    }
  ]
}